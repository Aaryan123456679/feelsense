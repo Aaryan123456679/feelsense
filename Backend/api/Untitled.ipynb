{
 "cells": [
  {
   "cell_type": "code",
   "execution_count": 1,
   "id": "f5087f9e-332b-4afe-92c8-f17d2e738b87",
   "metadata": {},
   "outputs": [],
   "source": [
    "from keras.models import load_model\n",
    "from PIL import Image\n",
    "import numpy as np\n",
    "import io\n",
    "import base64\n",
    "import zlib"
   ]
  },
  {
   "cell_type": "code",
   "execution_count": 2,
   "id": "a3f4e3ba-3f15-40e4-863f-8ca3234deb7e",
   "metadata": {},
   "outputs": [],
   "source": [
    "recieved_image = \"data:image/png;base64,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\""
   ]
  },
  {
   "cell_type": "code",
   "execution_count": 3,
   "id": "b30e2c97-2740-4067-a749-4476787c999f",
   "metadata": {},
   "outputs": [],
   "source": [
    "base64_str = recieved_image.split(',')[1]\n",
    "    \n",
    "# Decode the base64 string to bytes\n",
    "image_bytes = base64.b64decode(base64_str)\n",
    "    \n",
    "# Convert bytes to a PIL Image\n",
    "image = Image.open(io.BytesIO(image_bytes))\n",
    "\n",
    "target_size=(48, 48)\n",
    "resized_image = image.resize(target_size, Image.Resampling.LANCZOS)\n",
    "\n",
    "# Convert PIL Image to NumPy array\n",
    "numpy_array = np.array(resized_image)\n",
    "\n",
    "def ensure_correct_dimensions(numpy_array):\n",
    "    # Ensure the array has the correct dimensions (48, 48, 1)\n",
    "    if len(numpy_array.shape) == 2:\n",
    "        # Add a channel dimension if the image is grayscale\n",
    "        numpy_array = np.expand_dims(numpy_array, axis=-1)\n",
    "    elif len(numpy_array.shape) == 3 and numpy_array.shape[2] == 3:\n",
    "        # Convert RGB to grayscale\n",
    "        numpy_array = np.mean(numpy_array, axis=2, keepdims=True)\n",
    "    return numpy_array"
   ]
  },
  {
   "cell_type": "code",
   "execution_count": 4,
   "id": "b42b2b07-8436-48c2-b8b2-71b55c34ba57",
   "metadata": {},
   "outputs": [
    {
     "name": "stdout",
     "output_type": "stream",
     "text": [
      "[[[241 203 128 255]\n",
      "  [240 210 145 255]\n",
      "  [234 209 147 255]\n",
      "  ...\n",
      "  [193 163 153 255]\n",
      "  [187 162 154 255]\n",
      "  [184 162 151 255]]\n",
      "\n",
      " [[243 208 133 255]\n",
      "  [246 217 151 255]\n",
      "  [243 221 162 255]\n",
      "  ...\n",
      "  [204 166 161 255]\n",
      "  [199 166 163 255]\n",
      "  [196 166 162 255]]\n",
      "\n",
      " [[243 208 132 255]\n",
      "  [250 227 167 255]\n",
      "  [248 227 163 255]\n",
      "  ...\n",
      "  [203 167 162 255]\n",
      "  [201 164 168 255]\n",
      "  [201 162 168 255]]\n",
      "\n",
      " ...\n",
      "\n",
      " [[228 190 113 255]\n",
      "  [222 188 120 255]\n",
      "  [193 158 100 255]\n",
      "  ...\n",
      "  [229 188 156 255]\n",
      "  [226 184 153 255]\n",
      "  [222 181 150 255]]\n",
      "\n",
      " [[229 186 106 255]\n",
      "  [219 184 114 255]\n",
      "  [185 146  89 255]\n",
      "  ...\n",
      "  [228 191 156 255]\n",
      "  [229 189 155 255]\n",
      "  [223 185 151 255]]\n",
      "\n",
      " [[231 187 111 255]\n",
      "  [215 179 110 255]\n",
      "  [184 149  89 255]\n",
      "  ...\n",
      "  [228 188 151 255]\n",
      "  [228 185 152 255]\n",
      "  [224 184 152 255]]]\n"
     ]
    }
   ],
   "source": [
    "new_array = ensure_correct_dimensions(numpy_array)\n",
    "print(new_array)"
   ]
  },
  {
   "cell_type": "code",
   "execution_count": 5,
   "id": "4e0e9585-e188-4e33-a0c8-38a2ac6d8baf",
   "metadata": {},
   "outputs": [
    {
     "ename": "ValueError",
     "evalue": "cannot reshape array of size 9216 into shape (1,48,48,1)",
     "output_type": "error",
     "traceback": [
      "\u001b[0;31m---------------------------------------------------------------------------\u001b[0m",
      "\u001b[0;31mValueError\u001b[0m                                Traceback (most recent call last)",
      "Cell \u001b[0;32mIn[5], line 1\u001b[0m\n\u001b[0;32m----> 1\u001b[0m reshaped_array \u001b[38;5;241m=\u001b[39m \u001b[43mnew_array\u001b[49m\u001b[38;5;241;43m.\u001b[39;49m\u001b[43mreshape\u001b[49m\u001b[43m(\u001b[49m\u001b[43m(\u001b[49m\u001b[38;5;241;43m1\u001b[39;49m\u001b[43m,\u001b[49m\u001b[43m \u001b[49m\u001b[38;5;241;43m48\u001b[39;49m\u001b[43m,\u001b[49m\u001b[43m \u001b[49m\u001b[38;5;241;43m48\u001b[39;49m\u001b[43m,\u001b[49m\u001b[43m \u001b[49m\u001b[38;5;241;43m1\u001b[39;49m\u001b[43m)\u001b[49m\u001b[43m)\u001b[49m\n\u001b[1;32m      2\u001b[0m \u001b[38;5;28mprint\u001b[39m(reshaped_array)\n",
      "\u001b[0;31mValueError\u001b[0m: cannot reshape array of size 9216 into shape (1,48,48,1)"
     ]
    }
   ],
   "source": [
    "reshaped_array = new_array.reshape((1, 48, 48, 1))\n",
    "print(reshaped_array)"
   ]
  },
  {
   "cell_type": "code",
   "execution_count": 8,
   "id": "68e9cabc-5821-47a9-a409-4c54a9ea6627",
   "metadata": {},
   "outputs": [
    {
     "name": "stdout",
     "output_type": "stream",
     "text": [
      "Shape before reshaping: (48, 48, 1)\n",
      "Size before reshaping: 2304\n",
      "Reshaped array shape: (1, 48, 48, 1)\n"
     ]
    }
   ],
   "source": [
    "import numpy as np\n",
    "from PIL import Image\n",
    "import io\n",
    "import base64\n",
    "\n",
    "def data_url_to_image(data_url):\n",
    "    # Extract the base64 encoded string from the data URL\n",
    "    base64_str = data_url.split(',')[1]\n",
    "    \n",
    "    # Decode the base64 string to bytes\n",
    "    image_bytes = base64.b64decode(base64_str)\n",
    "    \n",
    "    # Convert bytes to a PIL Image\n",
    "    image = Image.open(io.BytesIO(image_bytes))\n",
    "    \n",
    "    return image\n",
    "\n",
    "def resize_image(image, target_size=(48, 48)):\n",
    "    # Resize the image\n",
    "    resized_image = image.resize(target_size, Image.Resampling.LANCZOS)\n",
    "    return resized_image\n",
    "\n",
    "def convert_to_grayscale(image):\n",
    "    # Convert the image to grayscale\n",
    "    grayscale_image = image.convert('L')\n",
    "    return grayscale_image\n",
    "\n",
    "def image_to_numpy(image):\n",
    "    # Convert PIL Image to NumPy array\n",
    "    numpy_array = np.array(image)\n",
    "    return numpy_array\n",
    "\n",
    "def ensure_correct_dimensions(numpy_array):\n",
    "    # Ensure the array has the correct dimensions (48, 48, 1)\n",
    "    if len(numpy_array.shape) == 2:\n",
    "        # Add a channel dimension if the image is grayscale\n",
    "        numpy_array = np.expand_dims(numpy_array, axis=-1)\n",
    "    return numpy_array\n",
    "\n",
    "def reshape_image(numpy_array):\n",
    "    # Reshape the NumPy array to (1, 48, 48, 1)\n",
    "    reshaped_array = numpy_array.reshape((1, 48, 48, 1))\n",
    "    return reshaped_array\n",
    "\n",
    "# Example data URL (replace with actual data URL)\n",
    "example_data_url = \"data:image/png;base64,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\"\n",
    "\n",
    "# Convert data URL to PIL Image\n",
    "image = data_url_to_image(example_data_url)\n",
    "\n",
    "# Resize the image to 48x48 pixels\n",
    "resized_image = resize_image(image)\n",
    "\n",
    "# Convert the resized image to grayscale\n",
    "grayscale_image = convert_to_grayscale(resized_image)\n",
    "\n",
    "# Convert the grayscale image to NumPy array\n",
    "numpy_array = image_to_numpy(grayscale_image)\n",
    "\n",
    "# Ensure the correct dimensions\n",
    "numpy_array = ensure_correct_dimensions(numpy_array)\n",
    "\n",
    "# Debug: Print the shape and size of the numpy array before reshaping\n",
    "print(f\"Shape before reshaping: {numpy_array.shape}\")\n",
    "print(f\"Size before reshaping: {numpy_array.size}\")\n",
    "\n",
    "# Reshape the array to (1, 48, 48, 1)\n",
    "reshaped_array = reshape_image(numpy_array)\n",
    "\n",
    "# Debug: Print the shape of the reshaped array\n",
    "print(\"Reshaped array shape:\", reshaped_array.shape)\n"
   ]
  },
  {
   "cell_type": "code",
   "execution_count": 9,
   "id": "0279522f-8aa2-44ad-8e60-b4659e08a98b",
   "metadata": {},
   "outputs": [
    {
     "name": "stderr",
     "output_type": "stream",
     "text": [
      "WARNING:absl:Compiled the loaded model, but the compiled metrics have yet to be built. `model.compile_metrics` will be empty until you train or evaluate the model.\n"
     ]
    }
   ],
   "source": [
    "new_model = load_model(\"model_save.h5\")"
   ]
  },
  {
   "cell_type": "code",
   "execution_count": 10,
   "id": "e4ace7e7-7e31-4e95-85ea-5415bfd80a47",
   "metadata": {},
   "outputs": [
    {
     "name": "stdout",
     "output_type": "stream",
     "text": [
      "\u001b[1m1/1\u001b[0m \u001b[32m━━━━━━━━━━━━━━━━━━━━\u001b[0m\u001b[37m\u001b[0m \u001b[1m0s\u001b[0m 268ms/step\n"
     ]
    }
   ],
   "source": [
    "pred = new_model.predict(reshaped_array)"
   ]
  },
  {
   "cell_type": "code",
   "execution_count": 12,
   "id": "9fd4af72-e560-451b-8675-b302235907f5",
   "metadata": {},
   "outputs": [
    {
     "name": "stdout",
     "output_type": "stream",
     "text": [
      "2\n"
     ]
    }
   ],
   "source": [
    "print(pred.argmax())"
   ]
  },
  {
   "cell_type": "code",
   "execution_count": null,
   "id": "0c5e774e-2e7e-4a66-b6d9-401ac9df63b7",
   "metadata": {},
   "outputs": [],
   "source": []
  }
 ],
 "metadata": {
  "kernelspec": {
   "display_name": "Python 3 (ipykernel)",
   "language": "python",
   "name": "python3"
  },
  "language_info": {
   "codemirror_mode": {
    "name": "ipython",
    "version": 3
   },
   "file_extension": ".py",
   "mimetype": "text/x-python",
   "name": "python",
   "nbconvert_exporter": "python",
   "pygments_lexer": "ipython3",
   "version": "3.12.3"
  }
 },
 "nbformat": 4,
 "nbformat_minor": 5
}
